{
 "cells": [
  {
   "attachments": {},
   "cell_type": "markdown",
   "metadata": {},
   "source": [
    "### Implementando a lógica de NPS com comandos simples e sequenciais(imperativo)"
   ]
  },
  {
   "cell_type": "code",
   "execution_count": 11,
   "metadata": {},
   "outputs": [
    {
     "name": "stdout",
     "output_type": "stream",
     "text": [
      "40.0\n"
     ]
    }
   ],
   "source": [
    "import pandas as pd\n",
    "\n",
    "dados = pd.read_csv(\"./feedbacks.csv\", delimiter=';')\n",
    "detratores = 0\n",
    "promotores = 0\n",
    "notas = dados['nota']\n",
    "\n",
    "for nota in notas:\n",
    "  if nota >= 9:\n",
    "    promotores += 1\n",
    "  elif nota <= 6:\n",
    "    detratores += 1\n",
    "    \n",
    "nps = (promotores - detratores) / len(notas) * 100\n",
    "print(nps)"
   ]
  },
  {
   "attachments": {},
   "cell_type": "markdown",
   "metadata": {},
   "source": [
    "### Evoluindo a implementação para separar as responsabilidades.(funcional)"
   ]
  },
  {
   "cell_type": "code",
   "execution_count": 12,
   "metadata": {},
   "outputs": [
    {
     "name": "stdout",
     "output_type": "stream",
     "text": [
      "40.0\n"
     ]
    }
   ],
   "source": [
    "import pandas as pd\n",
    "\n",
    "def calcular_nps(notas):\n",
    "  detratores = 0\n",
    "  promotores = 0\n",
    "  \n",
    "  for nota in notas:\n",
    "    if nota >= 9:\n",
    "      promotores += 1\n",
    "    elif nota <= 6:\n",
    "      detratores += 1\n",
    "  nps = (promotores - detratores) / len(notas) * 100\n",
    "  return nps\n",
    "\n",
    "\n",
    "\n",
    "dados = pd.read_csv(\"./feedbacks.csv\", delimiter=';')\n",
    "\n",
    "notas = dados['nota']\n",
    "print(calcular_nps(notas))\n"
   ]
  }
 ],
 "metadata": {
  "kernelspec": {
   "display_name": "Python 3",
   "language": "python",
   "name": "python3"
  },
  "language_info": {
   "codemirror_mode": {
    "name": "ipython",
    "version": 3
   },
   "file_extension": ".py",
   "mimetype": "text/x-python",
   "name": "python",
   "nbconvert_exporter": "python",
   "pygments_lexer": "ipython3",
   "version": "3.10.6"
  },
  "orig_nbformat": 4
 },
 "nbformat": 4,
 "nbformat_minor": 2
}
