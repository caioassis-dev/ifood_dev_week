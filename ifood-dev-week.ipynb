{
 "cells": [
  {
   "attachments": {},
   "cell_type": "markdown",
   "metadata": {},
   "source": [
    "### Implementando a lógica de NPS com comandos simples e sequenciais(imperativo)"
   ]
  },
  {
   "cell_type": "code",
   "execution_count": 11,
   "metadata": {},
   "outputs": [
    {
     "name": "stdout",
     "output_type": "stream",
     "text": [
      "40.0\n"
     ]
    }
   ],
   "source": [
    "import pandas as pd\n",
    "\n",
    "dados = pd.read_csv(\"./feedbacks.csv\", delimiter=';')\n",
    "detratores = 0\n",
    "promotores = 0\n",
    "notas = dados['nota']\n",
    "\n",
    "for nota in notas:\n",
    "  if nota >= 9:\n",
    "    promotores += 1\n",
    "  elif nota <= 6:\n",
    "    detratores += 1\n",
    "    \n",
    "nps = (promotores - detratores) / len(notas) * 100\n",
    "print(nps)"
   ]
  },
  {
   "attachments": {},
   "cell_type": "markdown",
   "metadata": {},
   "source": [
    "### Evoluindo a implementação para separar as responsabilidades.(funcional)"
   ]
  },
  {
   "cell_type": "code",
   "execution_count": 12,
   "metadata": {},
   "outputs": [
    {
     "name": "stdout",
     "output_type": "stream",
     "text": [
      "40.0\n"
     ]
    }
   ],
   "source": [
    "import pandas as pd\n",
    "\n",
    "def calcular_nps(notas):\n",
    "  detratores = 0\n",
    "  promotores = 0\n",
    "  \n",
    "  for nota in notas:\n",
    "    if nota >= 9:\n",
    "      promotores += 1\n",
    "    elif nota <= 6:\n",
    "      detratores += 1\n",
    "  nps = (promotores - detratores) / len(notas) * 100\n",
    "  return nps\n",
    "\n",
    "\n",
    "\n",
    "dados = pd.read_csv(\"./feedbacks.csv\", delimiter=';')\n",
    "\n",
    "notas = dados['nota']\n",
    "print(calcular_nps(notas))\n"
   ]
  },
  {
   "attachments": {},
   "cell_type": "markdown",
   "metadata": {},
   "source": [
    "### Abstrair o problema usando classes e objetos.(Orientação a objetos)"
   ]
  },
  {
   "cell_type": "code",
   "execution_count": 4,
   "metadata": {},
   "outputs": [
    {
     "name": "stdout",
     "output_type": "stream",
     "text": [
      "40.0\n"
     ]
    }
   ],
   "source": [
    "import pandas as pd\n",
    "\n",
    "class Feedback:\n",
    "  def __init__(self, nota, comentario):\n",
    "    self.nota = nota  \n",
    "    self.comentario = comentario\n",
    "    \n",
    "class AnalisadorFeedback:\n",
    "  def __init__(self, feedbacks):\n",
    "    self.feedbacks = feedbacks\n",
    "\n",
    "  def calcular_nps(self):\n",
    "    detratores = sum([1 for feedback in self.feedbacks if feedback.nota <= 6])\n",
    "    promotores = sum([1 for feedback in self.feedbacks if feedback.nota >= 9])\n",
    "\n",
    "    nps = (promotores - detratores) / len(self.feedbacks) * 100\n",
    "    return nps\n",
    "\n",
    "dados = pd.read_csv(\"./feedbacks.csv\", delimiter=';')\n",
    "\n",
    "feedbacks = [Feedback(linha['nota'], linha['comentario']) for indice, linha in dados.iterrows()]\n",
    "\n",
    "analisador = AnalisadorFeedback(feedbacks)\n",
    "nps = analisador.calcular_nps()\n",
    "print(nps)"
   ]
  },
  {
   "attachments": {},
   "cell_type": "markdown",
   "metadata": {},
   "source": [
    "### Adicionando arquivo CSV no google drive para fazer conexão direta"
   ]
  },
  {
   "cell_type": "code",
   "execution_count": 2,
   "metadata": {},
   "outputs": [
    {
     "name": "stderr",
     "output_type": "stream",
     "text": [
      "Downloading...\n",
      "From: https://drive.google.com/uc?id=1U1HEw_LKHREjPDymZ1Ec82hPlzJ03ijb\n",
      "To: c:\\Users\\cs376562\\Desktop\\AulaCaio\\Scripts\\Python\\ifood_dev_week\\feedbacks.csv\n",
      "100%|██████████| 118/118 [00:00<00:00, 118kB/s]\n"
     ]
    },
    {
     "data": {
      "text/plain": [
       "'feedbacks.csv'"
      ]
     },
     "execution_count": 2,
     "metadata": {},
     "output_type": "execute_result"
    }
   ],
   "source": [
    "import pandas as pd\n",
    "import gdown\n",
    "\n",
    "# variavel da file_id foi criada apenas para facilitar o parametro que é passado no link.\n",
    "file_id = '1U1HEw_LKHREjPDymZ1Ec82hPlzJ03ijb'\n",
    "gdown.download(f'https://drive.google.com/uc?id={file_id}', 'feedbacks.csv')\n",
    "\n"
   ]
  },
  {
   "cell_type": "code",
   "execution_count": 3,
   "metadata": {},
   "outputs": [],
   "source": [
    "dados = pd.read_csv('./feedbacks.csv', delimiter=';')\n"
   ]
  },
  {
   "attachments": {},
   "cell_type": "markdown",
   "metadata": {},
   "source": [
    "### Aplicando tecnicas de ETL(Extração, Transfornação e carregamento (extract, transform e load) nos dados)"
   ]
  },
  {
   "cell_type": "code",
   "execution_count": 16,
   "metadata": {},
   "outputs": [
    {
     "data": {
      "image/png": "[encoded data removed]",
      "text/plain": [
       "<Figure size 1000x200 with 1 Axes>"
      ]
     },
     "metadata": {},
     "output_type": "display_data"
    }
   ],
   "source": [
    "import matplotlib.pyplot as plt\n",
    "import matplotlib.patches as mpatches\n",
    "\n",
    "# Definição das constantes que usaremos para visualizar o NPS\n",
    "NPS_ZONAS =   ['Crítico', 'Aperfeiçoamento', 'Qualidade', 'Excelência']\n",
    "NPS_VALORES = [-100, 0, 50, 75, 100]\n",
    "NPS_CORES =   ['#FF595E', '#FFCA3A', '#8AC926', '#1982C4']\n",
    "\n",
    "\n",
    "def criar_grafico_nps(nps):\n",
    "  fig, ax = plt.subplots(figsize=(10,2))\n",
    "  \n",
    "  for indice, zona in enumerate(NPS_ZONAS):\n",
    "    ax.barh([0], width=NPS_VALORES[indice + 1] - NPS_VALORES[indice], left=NPS_VALORES[indice], color=NPS_CORES[indice])\n",
    "    \n",
    "  #essa linha abaixo mostra o valor do NPS que foi dado como nota em nossa pesquisa.  \n",
    "  ax.barh([0], width=0.5, left=nps, color='black')\n",
    "  #essa linha estou removendo a legenda do eixo Y.  \n",
    "  ax.set_yticks([])\n",
    "  #essa linha eu faço o limite do grafico no eixo x ser de -100 até 100.  \n",
    "  ax.set_xlim(-100,100)\n",
    "  #essa linha deixo apenas a legenda no eixo x seguindo os numeros do array NPS_VALORES.  \n",
    "  ax.set_xticks(NPS_VALORES)\n",
    "  \n",
    "  plt.text(nps, 0, f'{nps:.2f}', ha='center', va='center',color='white',bbox=dict(facecolor='black'))\n",
    "  \n",
    "  \n",
    "  \n",
    "  plt.show()\n",
    "  \n",
    "criar_grafico_nps(nps)"
   ]
  }
 ],
 "metadata": {
  "kernelspec": {
   "display_name": "Python 3",
   "language": "python",
   "name": "python3"
  },
  "language_info": {
   "codemirror_mode": {
    "name": "ipython",
    "version": 3
   },
   "file_extension": ".py",
   "mimetype": "text/x-python",
   "name": "python",
   "nbconvert_exporter": "python",
   "pygments_lexer": "ipython3",
   "version": "3.10.6"
  },
  "orig_nbformat": 4
 },
 "nbformat": 4,
 "nbformat_minor": 2
}
